{
 "cells": [
  {
   "cell_type": "code",
   "execution_count": 1,
   "metadata": {},
   "outputs": [],
   "source": [
    "import cv2\n",
    "import numpy as np"
   ]
  },
  {
   "cell_type": "code",
   "execution_count": 37,
   "metadata": {},
   "outputs": [
    {
     "data": {
      "text/plain": [
       "-1"
      ]
     },
     "execution_count": 37,
     "metadata": {},
     "output_type": "execute_result"
    }
   ],
   "source": [
    "img_path = 'D:/College/Sem VI/CV/lane4.jpg'\n",
    "image = cv2.imread(img_path)\n",
    "# cv2.imshow(\"Image\",image)\n",
    "# cv2.waitKey(0)\n",
    "\n",
    "hls = cv2.cvtColor(image, cv2.COLOR_RGB2HLS)\n",
    "lower = np.array([0,190,0]) # keep everything in this range, rest blackened\n",
    "upper = np.array([255,255,255])\n",
    "yellowlower = np.array([50,75,65]) # keep everything in this range, rest blackened\n",
    "yellowupper = np.array([125,255,168])\n",
    "\n",
    "# https://www.tydac.ch/color/\n",
    "# helps calculate ranges for colors\n",
    "\n",
    "# remove whatever isnt white coz lanes are white and we dont care about the rest\n",
    "# hue(shade), lightness and saturation\n",
    "whitemask = cv2.inRange(hls, lower, upper)\n",
    "yellowmask = cv2.inRange(hls, yellowlower, yellowupper)\n",
    "mask = cv2.bitwise_or(yellowmask, whitemask)  # yellow coz yellow lanes also i guess\n",
    "masked = cv2.bitwise_and(image, image, mask = mask) \n",
    "\n",
    "cv2.imshow(\"Image\",masked)\n",
    "cv2.waitKey(0)"
   ]
  },
  {
   "cell_type": "code",
   "execution_count": 38,
   "metadata": {},
   "outputs": [
    {
     "data": {
      "text/plain": [
       "-1"
      ]
     },
     "execution_count": 38,
     "metadata": {},
     "output_type": "execute_result"
    }
   ],
   "source": [
    "def roi(img):\n",
    "    x = int(img.shape[1])\n",
    "    y = int(img.shape[0])\n",
    "    shape = np.array([[int(0), int(y)], [int(x), int(y)], [int(0.55*x), int(0.55*y)], [int(0.50*x), int(0.55*y)]])\n",
    "#     cordinates of polygon in the middle in which lane would be\n",
    "\n",
    "    #define a numpy array with the dimensions of img, but comprised of zeros\n",
    "    mask = np.zeros_like(img)\n",
    "\n",
    "    #Uses 3 channels or 1 channel for color depending on input image\n",
    "    if len(img.shape) > 2:\n",
    "        channel_count = img.shape[2]\n",
    "        ignore_mask_color = (255,) * channel_count\n",
    "    else:\n",
    "        ignore_mask_color = 255\n",
    "\n",
    "    #creates a polygon with the mask color\n",
    "    cv2.fillPoly(mask, np.int32([shape]), ignore_mask_color)\n",
    "\n",
    "    #returns the image only where the mask pixels are not zero\n",
    "    masked_image = cv2.bitwise_and(img, mask)\n",
    "    return masked_image\n",
    "\n",
    "roi_img = roi(masked)\n",
    "\n",
    "cv2.imshow(\"Image\",roi_img)\n",
    "cv2.waitKey(0)"
   ]
  },
  {
   "cell_type": "code",
   "execution_count": 39,
   "metadata": {},
   "outputs": [],
   "source": [
    "# def hough_lines(img, rho, theta, threshold, min_line_len, max_line_gap):\n",
    "#     \"\"\"\n",
    "#     `img` should be the output of a Canny transform.\n",
    "#     \"\"\"\n",
    "#     lines = cv2.HoughLinesP(img, rho, theta, threshold, np.array([]), minLineLength=min_line_len, maxLineGap=max_line_gap)\n",
    "#     line_img = np.zeros((img.shape[0], img.shape[1], 3), dtype=np.uint8)\n",
    "#     draw_lines(line_img, lines)\n",
    "#     return line_img\n",
    "\n",
    "# def linedetect(img):\n",
    "#     return hough_lines(img, 1, np.pi/180, 10, 20, 100)\n",
    "\n",
    "\n",
    "edges = cv2.Canny(cv2.cvtColor(roi_img, cv2.COLOR_RGB2GRAY), 50, 120)\n",
    "cv2.imshow(\"Canny\",edges)\n",
    "cv2.waitKey(0)\n",
    "\n",
    "\n",
    "lines = cv2.HoughLinesP(edges,1,np.pi/180,30, 100, 1)\n",
    "# img2=image.copy()\n",
    "# for line in lines:\n",
    "#   x1, y1, x2, y2 = line[0]\n",
    "#   cv2.line(image, (x1, y1), (x2, y2), (255, 0, 0), 2)\n",
    "# cv2.imshow(\"Image\",image)\n",
    "# cv2.waitKey(0)"
   ]
  },
  {
   "cell_type": "code",
   "execution_count": 40,
   "metadata": {},
   "outputs": [
    {
     "name": "stdout",
     "output_type": "stream",
     "text": [
      "(4, 2)\n",
      "(4, 1, 2)\n"
     ]
    },
    {
     "data": {
      "text/plain": [
       "-1"
      ]
     },
     "execution_count": 40,
     "metadata": {},
     "output_type": "execute_result"
    }
   ],
   "source": [
    "rightColor=[0,255,0]\n",
    "leftColor=[255,0,0]\n",
    "\n",
    "# To draw lane lines we need to find the following things:\n",
    "# - Declare slope and intercept for 2 lines - left lane line and right lane line\n",
    "# - For each line in houghlines, determine whether its a left lane line of a right lane line\n",
    "# - Append the slope and intercept to corresponsind arrays\n",
    "# - Calculate the average slope and average intercept of left lane lines and right lane lines\n",
    "# - Draw 2 lines on the image using these slops and averages\n",
    "# \n",
    "\n",
    "rightSlope, leftSlope, rightIntercept, leftIntercept = [],[],[],[]\n",
    "for line in lines:\n",
    "    for x1,y1,x2,y2 in line:\n",
    "        slope = (y1-y2)/(x1-x2)\n",
    "        # only lines with slope > 0.3 can be considered as right lane lines\n",
    "        if slope > 0.1:\n",
    "            # if x coordinate of a line is grater than 500,\n",
    "            # then its likely to a right lane line\n",
    "            # positive slope coz y is postive downwards so not same logic as normal cartesian\n",
    "            if x1 > 200 :\n",
    "                # y = mx + c\n",
    "                # c = y-mx\n",
    "                yintercept = y2 - (slope*x2)\n",
    "                rightSlope.append(slope)\n",
    "                rightIntercept.append(yintercept)\n",
    "            else: None\n",
    "        # only lines with slope < -0.3 can be considered as left lane lines\n",
    "        elif slope < -0.3:\n",
    "            # if x coordinate of a line is less than 600,\n",
    "            # then its likely to a left lane line\n",
    "            if x1 < 600:\n",
    "                yintercept = y2 - (slope*x2)\n",
    "                leftSlope.append(slope)\n",
    "                leftIntercept.append(yintercept)\n",
    "\n",
    "leftavgSlope = np.mean(leftSlope[-30:])\n",
    "leftavgIntercept = np.mean(leftIntercept[-30:])\n",
    "\n",
    "rightavgSlope = np.mean(rightSlope[-30:])\n",
    "rightavgIntercept = np.mean(rightIntercept[-30:])\n",
    "\n",
    "# y = mx + c\n",
    "# x = (y-c)/m\n",
    "left_line_x1 = int((0.65*image.shape[0] - leftavgIntercept)/leftavgSlope)\n",
    "left_line_x2 = int((image.shape[0] - leftavgIntercept)/leftavgSlope)\n",
    "\n",
    "right_line_x1 = int((0.65*image.shape[0] - rightavgIntercept)/rightavgSlope)\n",
    "right_line_x2 = int((image.shape[0] - rightavgIntercept)/rightavgSlope)\n",
    "\n",
    "pts = np.array([[left_line_x1, int(0.65*image.shape[0])],[left_line_x2, int(image.shape[0])],[right_line_x2, int(image.shape[0])],[right_line_x1, int(0.65*image.shape[0])]], np.int32)\n",
    "print(pts.shape)\n",
    "pts = pts.reshape((-1,1,2))\n",
    "print(pts.shape)\n",
    "cv2.fillPoly(image,[pts],(0,0,255))\n",
    "\n",
    "# cv2.imshow(\"fillpoly\",image)\n",
    "\n",
    "cv2.line(image, (left_line_x1, int(0.65*image.shape[0])), (left_line_x2, int(image.shape[0])), leftColor, 10)\n",
    "# cv2.imshow(\"Left lane\",image)\n",
    "cv2.line(image, (right_line_x1, int(0.65*image.shape[0])), (right_line_x2, int(image.shape[0])), rightColor, 10)\n",
    "# cv2.imshow(\"Right lane\",image)\n",
    "\n",
    "cv2.imshow(\"Image\",image)\n",
    "cv2.waitKey(0)"
   ]
  },
  {
   "cell_type": "code",
   "execution_count": 54,
   "metadata": {},
   "outputs": [
    {
     "name": "stdout",
     "output_type": "stream",
     "text": [
      "(834, 1111, 3)\n",
      "(208, 278, 3)\n",
      "(834, 1111, 3)\n"
     ]
    },
    {
     "data": {
      "text/plain": [
       "-1"
      ]
     },
     "execution_count": 54,
     "metadata": {},
     "output_type": "execute_result"
    }
   ],
   "source": [
    "# Cartoonize\n",
    "import cv2\n",
    "\n",
    "img_path = 'D:/Jatayu Unmanned Systems/dataset2/New/Trump/Trump_7.jpg'\n",
    "image = cv2.imread(img_path)\n",
    "image = cv2.resize(image, None, fx=1.0/2, fy=1.0/2,interpolation=cv2.INTER_AREA)\n",
    "\n",
    "img_gray = cv2.cvtColor(image, cv2.COLOR_BGR2GRAY)\n",
    "\n",
    "# Remove noise from the image using median filter \n",
    "img_gray = cv2.medianBlur(img_gray, 7)\n",
    "\n",
    "# Blur the image using gaussian blur\n",
    "img_gray = cv2.GaussianBlur(img_gray, (5, 5), 0)\n",
    "cv2.imshow(\"Gray Blurred\", img_gray)\n",
    "cv2.waitKey(0)\n",
    "\n",
    "\n",
    "# Apply Laplacian transform to create a mask for edges\n",
    "edges = cv2.Laplacian(img_gray, cv2.CV_8U, ksize=5)\n",
    "ret, mask = cv2.threshold(edges, 100, 255, cv2.THRESH_BINARY_INV)\n",
    "cv2.imshow(\"Edges\", edges)\n",
    "cv2.waitKey(0)\n",
    "\n",
    "\n",
    "# Resize the image to 1/4th of its dimensions\n",
    "ds_factor = 4\n",
    "num_repetitions = 15\n",
    "\n",
    "img_small = cv2.resize(image, None, fx=1.0/ds_factor, fy=1.0/ds_factor,interpolation=cv2.INTER_AREA)\n",
    "\n",
    "# Apply bilateral filter the image multiple times to acheice the cartoon effect\n",
    "for i in range(num_repetitions):\n",
    "    img_small = cv2.bilateralFilter(img_small, 5, 5, 7)\n",
    "\n",
    "# Resize the image to original shape\n",
    "img_output = cv2.resize(img_small, (image.shape[1], image.shape[0]), interpolation=cv2.INTER_LINEAR)\n",
    "cv2.imshow(\"Color Blurred\", img_output)\n",
    "cv2.waitKey(0)\n",
    "\n",
    "# Create a blank destination image \n",
    "dst = np.zeros(img_gray.shape)\n",
    "\n",
    "# Apply bitwise and of the mask created earlier on the image\n",
    "dst = cv2.bitwise_and(img_output, img_output, mask=mask)\n",
    "cv2.imshow(\"Cartoon\", dst)\n",
    "cv2.waitKey(0)"
   ]
  },
  {
   "cell_type": "code",
   "execution_count": null,
   "metadata": {},
   "outputs": [],
   "source": []
  }
 ],
 "metadata": {
  "kernelspec": {
   "display_name": "Python 3",
   "language": "python",
   "name": "python3"
  },
  "language_info": {
   "codemirror_mode": {
    "name": "ipython",
    "version": 3
   },
   "file_extension": ".py",
   "mimetype": "text/x-python",
   "name": "python",
   "nbconvert_exporter": "python",
   "pygments_lexer": "ipython3",
   "version": "3.6.9"
  }
 },
 "nbformat": 4,
 "nbformat_minor": 4
}
